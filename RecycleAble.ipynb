{
 "cells": [
  {
   "cell_type": "markdown",
   "metadata": {},
   "source": [
    "# RecycleAble\n",
    "\n",
    "One of the most common ways for people to take action in helping mitigate humanity's effects on planet Earth is recycling. It's something easy that can be done basically everyday. However, most people don't really think twice about what they recycle, or they throw something away instead of checking to see if it's recyclable or not.\n",
    "\n",
    "I asked Siri if an empty peanut butter jar was recyclable, and it offered a web search instead of a standard answer. Unfortunately, web searches are slower and take more effort to gain information from. This sparked my idea for potentially improving Siri, Alexa, and other voice assistants by having a way to answer questions on recycling much quicker."
   ]
  },
  {
   "cell_type": "code",
   "execution_count": 1,
   "metadata": {},
   "outputs": [],
   "source": [
    "# Import speech recognition package and text similarity package\n",
    "import speech_recognition as sr\n",
    "from difflib import SequenceMatcher"
   ]
  },
  {
   "cell_type": "code",
   "execution_count": 2,
   "metadata": {},
   "outputs": [],
   "source": [
    "# Import dearpygui packages for application interface\n",
    "from dearpygui.core import *\n",
    "from dearpygui.simple import *"
   ]
  },
  {
   "cell_type": "code",
   "execution_count": 3,
   "metadata": {},
   "outputs": [],
   "source": [
    "# Define function that scores similarity between two elements\n",
    "def similar(a, b):\n",
    "    return SequenceMatcher(None, a, b).ratio()"
   ]
  },
  {
   "cell_type": "code",
   "execution_count": 4,
   "metadata": {},
   "outputs": [],
   "source": [
    "# Define callback function for the recording button in the application\n",
    "def record_audio():\n",
    "    \n",
    "    # Define the speech recognition elements and base lists of recyclable and non-recyclable items\n",
    "    r = sr.Recognizer()\n",
    "    mic = sr.Microphone(device_index=12)\n",
    "    recyclables = ['plastic container', 'soda cans', 'aluminum cans', 'metal', 'paper', 'cardboard', 'glass', 'bottle']\n",
    "    non_recyclables = ['plastic bags', 'batteries', 'electronics', 'eletric cable', 'wood', 'rubber', 'sharp objects', 'grease']\n",
    "    \n",
    "    with window('Home Page'):\n",
    "        add_text('Recording...')\n",
    "    \n",
    "    # Record input\n",
    "    with mic as source:\n",
    "        r.adjust_for_ambient_noise(source, duration=0.5)\n",
    "        audio = r.listen(source)\n",
    "        \n",
    "    try:\n",
    "        output = r.recognize_google(audio)\n",
    "        \n",
    "        similarities = {}\n",
    "\n",
    "        for i in recyclables:\n",
    "            similarities[i] = similar(output, i)\n",
    "        for i in non_recyclables:\n",
    "            similarities[i] = similar(output, i)\n",
    "\n",
    "        most_similar = max(similarities, key=similarities.get)\n",
    "\n",
    "        if most_similar in recyclables:\n",
    "            with window('Home Page'):\n",
    "                if does_item_exist('Recording...'):\n",
    "                    delete_item('Recording...')\n",
    "                add_text(output + ' is recyclable as long as there is no food waste on it!')\n",
    "                add_spacing(count = 6)\n",
    "        else:\n",
    "            with window('Home Page'):\n",
    "                if does_item_exist('Recording...'):\n",
    "                    delete_item('Recording...')\n",
    "                add_text(output + ' is not recyclable!')\n",
    "                add_spacing(count = 6)\n",
    "    except sr.RequestError:\n",
    "        with window('Home Page'):\n",
    "            add_text('API is currently unavailable. Please try again in a while.')\n",
    "            add_spacing(count = 6)\n",
    "    except sr.UnknownValueError:\n",
    "        with window('Home Page'):\n",
    "            add_text('Speech unintelligible. Please try again.')\n",
    "            add_spacing(count = 6)"
   ]
  },
  {
   "cell_type": "code",
   "execution_count": 5,
   "metadata": {},
   "outputs": [
    {
     "ename": "Exception",
     "evalue": "Line: 74 \tHome Page: Items of this type must have unique names",
     "output_type": "error",
     "traceback": [
      "\u001b[1;31m---------------------------------------------------------------------------\u001b[0m",
      "\u001b[1;31mException\u001b[0m                                 Traceback (most recent call last)",
      "\u001b[1;31mException\u001b[0m: Line: 74 \tHome Page: Items of this type must have unique names"
     ]
    },
    {
     "ename": "Exception",
     "evalue": "Line: 74 \tHome Page: Items of this type must have unique names",
     "output_type": "error",
     "traceback": [
      "\u001b[1;31m---------------------------------------------------------------------------\u001b[0m",
      "\u001b[1;31mException\u001b[0m                                 Traceback (most recent call last)",
      "\u001b[1;31mException\u001b[0m: Line: 74 \tHome Page: Items of this type must have unique names"
     ]
    }
   ],
   "source": [
    "# Set application settings\n",
    "set_main_window_size(1000, 720)\n",
    "set_global_font_scale(1.25)\n",
    "set_theme('Green')\n",
    "set_style_window_padding(30, 0)\n",
    "\n",
    "with window('Home Page', width = 980, height = 677):\n",
    "    set_window_pos('Home Page', 0, 0)\n",
    "    add_drawing('logo', width = 200, height = 200)\n",
    "    add_separator()\n",
    "    add_text('Please press the Record button below to record a brief description of your object.')\n",
    "    add_spacing(count = 6)\n",
    "    add_button('Record', callback = record_audio)\n",
    "    add_spacing(count = 6)\n",
    "\n",
    "draw_image('logo', 'recycleable_logo.png', pmin = [0, 0], pmax = [200, 200])\n",
    "\n",
    "start_dearpygui()"
   ]
  },
  {
   "cell_type": "code",
   "execution_count": null,
   "metadata": {},
   "outputs": [],
   "source": []
  }
 ],
 "metadata": {
  "kernelspec": {
   "display_name": "Python 3",
   "language": "python",
   "name": "python3"
  },
  "language_info": {
   "codemirror_mode": {
    "name": "ipython",
    "version": 3
   },
   "file_extension": ".py",
   "mimetype": "text/x-python",
   "name": "python",
   "nbconvert_exporter": "python",
   "pygments_lexer": "ipython3",
   "version": "3.8.5"
  }
 },
 "nbformat": 4,
 "nbformat_minor": 4
}
